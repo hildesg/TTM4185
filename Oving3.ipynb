{
 "cells": [
  {
   "cell_type": "code",
   "execution_count": null,
   "metadata": {},
   "outputs": [],
   "source": [
    "from graph_utils.graph import Graph, nx, plt\n",
    "from graph_utils.grid_graph import GridGraph\n",
    "from graph_utils.constructed_graph import ConstructedGraph\n",
    "from graph_utils.watts_strogatz import WattsStrogatz\n",
    "from graph_utils.barabasi_albert import BarabasiAlbert\n",
    "from graph_utils.real_network_graph import RealNetworkGraph\n",
    "from graph_utils.vdes_graph import VDESGraph\n",
    "import matplotlib\n",
    "import numpy as np"
   ]
  },
  {
   "cell_type": "markdown",
   "metadata": {},
   "source": [
    "# Del 1: Introduksjon\n",
    "I denne delen skal vi bli kjent med hvordan man plotter grafer.\n",
    "## Oppgave 1.1\n",
    "Lag en graf ved å først opprette et objekt av klassen <code>Graph</code>. Legg deretter til 5-10 noder ved å bruke metoden <code>add_node()</code> eller <code>add_nodes_from()</code>. Legg så til kanter mellom de nodene du ønsker ved å bruke <code>add_edge()</code> eller <code>add_edges_from()</code>. Bruk til slutt metoden <code>draw()</code> for å tegne grafen."
   ]
  },
  {
   "cell_type": "code",
   "execution_count": null,
   "metadata": {},
   "outputs": [],
   "source": [
    "# Skriv koden her\n"
   ]
  },
  {
   "cell_type": "markdown",
   "metadata": {},
   "source": [
    "## Oppgave 1.2\n",
    "Man kan finne antall noder ved å bruke metoden <code>number_of_nodes()</code>. Prøv den ut på grafobjektet du opprettet i forrige oppgave og print resultatet."
   ]
  },
  {
   "cell_type": "code",
   "execution_count": null,
   "metadata": {},
   "outputs": [],
   "source": [
    "# Skriv koden her\n"
   ]
  },
  {
   "cell_type": "markdown",
   "metadata": {},
   "source": [
    "## Oppgave 1.3\n",
    "På samme måte som med noder kan man finne antallet kanter i grafen med metoden <code>number_of_edges()</code>. Bruk den på grafen fra oppgave 1.1 til å finne antall kanter i grafen og print resultatet."
   ]
  },
  {
   "cell_type": "code",
   "execution_count": null,
   "metadata": {},
   "outputs": [],
   "source": [
    "# Skriv koden her\n"
   ]
  },
  {
   "cell_type": "markdown",
   "metadata": {},
   "source": [
    "## Oppgave 1.4\n",
    "Opprett et <code>GridGraph</code>-objekt med 5 x 5 noder. Tegn korteste vei mellom node (4, 4) og (1, 2) med metoden <code>mark_shortest_path()</code>."
   ]
  },
  {
   "cell_type": "code",
   "execution_count": null,
   "metadata": {},
   "outputs": [],
   "source": [
    "# Plot grafen her\n"
   ]
  },
  {
   "cell_type": "markdown",
   "metadata": {},
   "source": [
    "## Oppgave 1.5\n",
    "Vi skal forsette å bruke grafen fra forrige oppgave. Fjern node (1, 3) og (2, 2) ved å bruke metoden <code>remove_node()</code>. Finn nå korteste vei mellom node (4, 4) og (1, 2) og tegn resultatet. (Merk at nodene ikke nødvendigvis blir tegnet på samme steder som i forrige oppgave, men den tegner en isomorf graf)"
   ]
  },
  {
   "cell_type": "code",
   "execution_count": null,
   "metadata": {},
   "outputs": [],
   "source": [
    "# Skriv koden her\n"
   ]
  },
  {
   "cell_type": "markdown",
   "metadata": {},
   "source": [
    "## Oppgave 1.6\n",
    "Hvor mange noder må minst slettes for at korteste vei mellom node (4, 4) og (1, 2) skal bli lenger enn den var i oppgave 1.5, men at det fremdeles finnes en vei?"
   ]
  },
  {
   "cell_type": "code",
   "execution_count": null,
   "metadata": {},
   "outputs": [],
   "source": [
    "# Kodecelle hvis du vil teste"
   ]
  },
  {
   "cell_type": "raw",
   "metadata": {},
   "source": [
    "Skriv svaret her\n"
   ]
  },
  {
   "cell_type": "markdown",
   "metadata": {},
   "source": [
    "Hvor mange noder må slettes for at det ikke skal eksistere noen vei mellom node (4, 4) og (1, 2), med utgangspunkt i grafen slik den er i oppgave 1.5?"
   ]
  },
  {
   "cell_type": "code",
   "execution_count": null,
   "metadata": {},
   "outputs": [],
   "source": [
    "# Kodecelle hvis du vil teste"
   ]
  },
  {
   "cell_type": "raw",
   "metadata": {},
   "source": [
    "Skriv svaret her\n"
   ]
  },
  {
   "cell_type": "markdown",
   "metadata": {},
   "source": [
    "## Oppgave 1.7\n",
    "Opprett et <code>WattsStrogatz</code>-objekt med parametre n=100, k=4 og p=0.1.\n",
    "Tegn så grafen, og finn korteste vei mellom node 53 og 75.\n"
   ]
  },
  {
   "cell_type": "code",
   "execution_count": null,
   "metadata": {},
   "outputs": [],
   "source": [
    "# Skriv koden her\n"
   ]
  },
  {
   "cell_type": "code",
   "execution_count": null,
   "metadata": {},
   "outputs": [],
   "source": [
    "# Skriv koden for korteste vei her\n"
   ]
  },
  {
   "cell_type": "markdown",
   "metadata": {},
   "source": [
    "# Del 2: Strukturanalyse\n",
    "## Oppgave 2.1\n",
    "\n",
    "Lag følgende 4 grafer, alle med 100 noder:\n",
    "* Graf 1: En Barabasi Albert graf med parameter m=1\n",
    "* Graf 2: En Barabasi Albert graf med parameter m=2\n",
    "* Graf 3: En Watts Strogatz graf med parametre k=2 og p=0.1\n",
    "* Graf 4: En Watts Strogatz graf med parametre k=4 og p=0.1\n",
    "\n",
    "Du trenger ikke tegne grafene, bare opprett et objekt for hver graf. Det kan likevel være lurt å tegne grafen for din egen del, så du vet hvordan den ser ut."
   ]
  },
  {
   "cell_type": "code",
   "execution_count": null,
   "metadata": {},
   "outputs": [],
   "source": [
    "#Skriv koden her\n"
   ]
  },
  {
   "cell_type": "markdown",
   "metadata": {},
   "source": [
    "## Oppgave 2.2\n",
    "For hver av de fire grafene: lag et histogram som viser degree distribution. \n",
    "* Bruk metoden <code>histogram()</code> for å gjøre dette. \n",
    "* Kommenter så kort hva du diagrammet illustrerer."
   ]
  },
  {
   "cell_type": "code",
   "execution_count": null,
   "metadata": {},
   "outputs": [],
   "source": [
    "#Skriv koden for graf 1 her\n"
   ]
  },
  {
   "cell_type": "code",
   "execution_count": null,
   "metadata": {},
   "outputs": [],
   "source": [
    "#Skriv koden for graf 2 her\n"
   ]
  },
  {
   "cell_type": "code",
   "execution_count": null,
   "metadata": {},
   "outputs": [],
   "source": [
    "#Skriv koden for graf 3 her\n"
   ]
  },
  {
   "cell_type": "code",
   "execution_count": null,
   "metadata": {
    "scrolled": false
   },
   "outputs": [],
   "source": [
    "#Skriv koden for graf 4 her\n"
   ]
  },
  {
   "cell_type": "markdown",
   "metadata": {},
   "source": [
    "## Oppgave 2.3 \n",
    "Kommenter resultatene med hensyn på sårbarheter for hver av de 4 grafene i forrige oppgave."
   ]
  },
  {
   "cell_type": "raw",
   "metadata": {},
   "source": [
    "Skriv svaret her\n"
   ]
  },
  {
   "cell_type": "markdown",
   "metadata": {},
   "source": [
    "## Oppgave 2.4\n",
    "Hvordan endrer degree distribution seg for en Barabasi Albert graf seg når m øker fra 1 til 2? Forklar hvorfor."
   ]
  },
  {
   "cell_type": "raw",
   "metadata": {},
   "source": [
    "Skriv svaret her\n"
   ]
  },
  {
   "cell_type": "markdown",
   "metadata": {},
   "source": [
    "## Oppgave 2.5 \n",
    "Hvordan endrer degree distribution seg for en Watts Strogats graf seg når k øker fra 2 til 4? Forklar hvorfor."
   ]
  },
  {
   "cell_type": "raw",
   "metadata": {},
   "source": [
    "Skriv svaret her\n"
   ]
  },
  {
   "cell_type": "markdown",
   "metadata": {},
   "source": [
    "## Oppgave 2.6\n",
    "Hvordan endrer degree distribution seg for en Watts Strogats graf dersom p øker? Test det ut og forklar hvorfor."
   ]
  },
  {
   "cell_type": "code",
   "execution_count": null,
   "metadata": {},
   "outputs": [],
   "source": [
    "# Eventuell kode her\n",
    "\n"
   ]
  },
  {
   "cell_type": "raw",
   "metadata": {},
   "source": [
    "Skriv svaret her\n"
   ]
  },
  {
   "cell_type": "markdown",
   "metadata": {},
   "source": [
    "## Oppgave 2.7\n",
    "Hva sier degree distribution om nettverket?"
   ]
  },
  {
   "cell_type": "raw",
   "metadata": {},
   "source": [
    "Svar her\n"
   ]
  },
  {
   "cell_type": "markdown",
   "metadata": {},
   "source": [
    "## Oppgave 2.8\n",
    "* Hent ut de 5 viktigste nodene i forhold til closeness centrality for graf 1 og graf 2 og finn deres verdi. \n",
    "* Marker så nodene på grafene og kommenter viktigheten av de 5. \n",
    "* Sammenlign mellom grafene hvor disse nodene spiller størst rolle."
   ]
  },
  {
   "cell_type": "code",
   "execution_count": null,
   "metadata": {},
   "outputs": [],
   "source": [
    "# Skriv kode her\n"
   ]
  },
  {
   "cell_type": "markdown",
   "metadata": {},
   "source": [
    "## Oppgave 2.9\n",
    "For graf 4: Identifiser noder som har høy verdi av en indeks, men lav av en annen indeks. Tips: tegning illustreringen av centrality indexene for å se det ut ifra grafen. Hva blir konsekvensene dersom disse nodene feiler?"
   ]
  },
  {
   "cell_type": "code",
   "execution_count": null,
   "metadata": {
    "scrolled": false
   },
   "outputs": [],
   "source": [
    "# Din kode her\n"
   ]
  },
  {
   "cell_type": "markdown",
   "metadata": {},
   "source": [
    "## Oppgave 2.10\n",
    "Konstruer et nettverk bestående av mellom 9 og 15 noder med en node som har høyest closeness centrality, og en av de laveste degree centrality verdiene. Tips: Siden grafen ikke er så stor kan det være lettere å hardkode noder og edges enn å generere de ved hjelp av en <code>for</code> loop."
   ]
  },
  {
   "cell_type": "code",
   "execution_count": null,
   "metadata": {
    "scrolled": false
   },
   "outputs": [],
   "source": [
    "# Skriv koden her\n"
   ]
  },
  {
   "cell_type": "markdown",
   "metadata": {},
   "source": [
    "# Del 3: Analyse av Reelle nettverk\n",
    "Her skal vi analysere og diskutere reelle/ simulerte nettverk."
   ]
  },
  {
   "cell_type": "markdown",
   "metadata": {},
   "source": [
    "## Oppgave 3.1\n",
    "I denne oppgaven skal vi analysere Uninett sitt nettverk slik det var i 2011. Klassen <code>RealNetworkGraph</code> tar inn en url av en fil med filtypen <i>.graphml</i>. Lag et objekt for kjernenettet i Norge og tegn det. Filene som kan analyseres finnes på nettsiden <a href=\"http://www.topology-zoo.org/dataset.html\">Topology Zoo</a>."
   ]
  },
  {
   "cell_type": "code",
   "execution_count": null,
   "metadata": {},
   "outputs": [],
   "source": [
    "#Skriv koden her\n"
   ]
  },
  {
   "cell_type": "markdown",
   "metadata": {},
   "source": [
    "## Oppgave 3.2\n",
    "Plot et histogram over degree distribution for nettverket til Uninett"
   ]
  },
  {
   "cell_type": "code",
   "execution_count": null,
   "metadata": {},
   "outputs": [],
   "source": [
    "#Skriv koden her\n"
   ]
  },
  {
   "cell_type": "markdown",
   "metadata": {},
   "source": [
    "## Oppgave 3.3\n",
    "For hver av de tre centrality indeksene, print gjennomsnittlig centrality i nettverket til Uninett."
   ]
  },
  {
   "cell_type": "code",
   "execution_count": null,
   "metadata": {},
   "outputs": [],
   "source": [
    "#Skriv koden her\n"
   ]
  },
  {
   "cell_type": "markdown",
   "metadata": {},
   "source": [
    "## Oppgave 3.4\n",
    "Diskuter resultatene fra oppgave 3.2 og 3.3. Er nettverket robust? Forklar. <br>\n",
    "Hvilket av nettverkene fra del 2 ligner Uninett sitt mest på?"
   ]
  },
  {
   "cell_type": "raw",
   "metadata": {},
   "source": [
    "Diskuter her\n"
   ]
  },
  {
   "cell_type": "markdown",
   "metadata": {},
   "source": [
    "## Oppgave 3.5\n",
    "Constructed graph simulerer et reelt netverk. Den består av et kjernenett med en grid struktur, et regionalnett og et tettbebyggd aksessnett. Bruk klassen <code>ConstructedGraph</code> og tegn så grafen."
   ]
  },
  {
   "cell_type": "code",
   "execution_count": null,
   "metadata": {},
   "outputs": [],
   "source": [
    "# Skriv koden her\n"
   ]
  },
  {
   "cell_type": "markdown",
   "metadata": {},
   "source": [
    "## Oppgave 3.6\n",
    "Illustrer på grafen verdien av de tre centrality indeksene. Tips: bruk de metodene som er ferdiglagde."
   ]
  },
  {
   "cell_type": "code",
   "execution_count": null,
   "metadata": {
    "scrolled": false
   },
   "outputs": [],
   "source": [
    "# Kode\n"
   ]
  },
  {
   "cell_type": "markdown",
   "metadata": {},
   "source": [
    "### Oppgave 3.7\n",
    "Diskuter viktigheten og robustheten til regionalnettet."
   ]
  },
  {
   "cell_type": "raw",
   "metadata": {},
   "source": [
    "Skriv her\n"
   ]
  },
  {
   "cell_type": "markdown",
   "metadata": {},
   "source": [
    "# Del 4: Feil og Angrep på nettverk"
   ]
  },
  {
   "cell_type": "raw",
   "metadata": {},
   "source": [
    "CASE:\n",
    "Du er en terrorist er ute etter å utføre mest mulig skade. \n",
    "Vi skal nå hjelpe deg med å se på hvor det er mest interessant å angripe."
   ]
  },
  {
   "cell_type": "markdown",
   "metadata": {},
   "source": [
    "## Nettverket som angripes\n",
    "Bruk objektet <script>VDEGraph</script> i denne oppgaven. Grafen er et utsnitt av et VDES nettverk i aksjon der båtene snakker med hverandre, satelittene og de landbaserte radiotårnene."
   ]
  },
  {
   "cell_type": "code",
   "execution_count": null,
   "metadata": {},
   "outputs": [],
   "source": [
    "# Kjør denne for å se grafen\n",
    "VDES = VDESGraph()\n",
    "VDES.draw()"
   ]
  },
  {
   "cell_type": "markdown",
   "metadata": {},
   "source": [
    "## 4.1 Analyse av nettverket"
   ]
  },
  {
   "cell_type": "markdown",
   "metadata": {},
   "source": [
    "### 4.1.1 Sentraliteter\n",
    "For å vite hvor vi skal angripe er det en fordel å vite hvor vi kan gjøre mest mulig skade.\n",
    "Bruk de numeriske verdiene for de forskjellige centrality målene du lærte i de tidligere delene for ut hvilken node som er den viktigste i nettverket. "
   ]
  },
  {
   "cell_type": "code",
   "execution_count": null,
   "metadata": {
    "scrolled": true
   },
   "outputs": [],
   "source": [
    "#Din kode her\n"
   ]
  },
  {
   "cell_type": "markdown",
   "metadata": {},
   "source": [
    "### 4.1.2 Sentraliteter del 2\n",
    "* Illustrer sentralitetene grafisk. \n",
    "* Diskuter om nodene med lavest verdier på sentralitsmålene alltid er de minst viktige nodene i nettverket."
   ]
  },
  {
   "cell_type": "code",
   "execution_count": null,
   "metadata": {
    "scrolled": false
   },
   "outputs": [],
   "source": [
    "# Kode her\n"
   ]
  },
  {
   "cell_type": "raw",
   "metadata": {},
   "source": [
    "Diskuter her \n"
   ]
  },
  {
   "cell_type": "markdown",
   "metadata": {},
   "source": [
    "### 4.1.3 Annen analyse\n",
    "Analyser nettverket med degree distribution og kanter per node. Diskuter robustheten bassert på de nevnte målene."
   ]
  },
  {
   "cell_type": "code",
   "execution_count": null,
   "metadata": {},
   "outputs": [],
   "source": [
    "# Kode her\n"
   ]
  },
  {
   "cell_type": "raw",
   "metadata": {},
   "source": [
    "Diskuter her\n"
   ]
  },
  {
   "cell_type": "markdown",
   "metadata": {},
   "source": [
    "## 4.2 Angrep av nettverket/feil med nettverket\n",
    "### 4.2.1 Tilfeldige feil\n",
    "Bruk metoden <code>delete_random_nodes</code> for å angripe grafene med tilfeldige angrep.\n",
    "\n",
    "<li>\n",
    "    Fjern én node. Tegn så grafen.\n",
    "</li>\n",
    "<li>\n",
    "    Fjern tre noder. Tegn så grafen\n",
    "</li>\n"
   ]
  },
  {
   "cell_type": "markdown",
   "metadata": {},
   "source": [
    "Random metoden her er seedet, altså vil den gi ut samme random hver gang."
   ]
  },
  {
   "cell_type": "code",
   "execution_count": null,
   "metadata": {
    "scrolled": false
   },
   "outputs": [],
   "source": [
    "#Din kode her\n"
   ]
  },
  {
   "cell_type": "markdown",
   "metadata": {},
   "source": [
    "### 4.2.2 Enkelt angrep\n",
    "Utfør ett enkelt målrettet angrep. Velg her den metoden som gjør mest skade og begrunn hvorfor."
   ]
  },
  {
   "cell_type": "code",
   "execution_count": null,
   "metadata": {},
   "outputs": [],
   "source": [
    "#Din kode her\n"
   ]
  },
  {
   "cell_type": "markdown",
   "metadata": {},
   "source": [
    "### 4.2.3 Flere angrep\n",
    "Utfør 3 angrep totalt og utfør mest mulig skade. Sammenlign med like mange tilfeldige feil og forklar resultatet."
   ]
  },
  {
   "cell_type": "code",
   "execution_count": null,
   "metadata": {
    "scrolled": false
   },
   "outputs": [],
   "source": [
    "#Din kode her\n"
   ]
  },
  {
   "cell_type": "raw",
   "metadata": {},
   "source": [
    "Diskuter\n"
   ]
  },
  {
   "cell_type": "markdown",
   "metadata": {},
   "source": [
    "### 4.2.4 Evaluering\n",
    "Prøv å evaluere angrepene som du har gjort nå med metoder fra tidligere seksjoner."
   ]
  },
  {
   "cell_type": "code",
   "execution_count": null,
   "metadata": {},
   "outputs": [],
   "source": [
    "# Din kode her\n"
   ]
  },
  {
   "cell_type": "raw",
   "metadata": {},
   "source": [
    "Skriv teksten din her\n"
   ]
  },
  {
   "cell_type": "markdown",
   "metadata": {},
   "source": [
    "### 4.2.5 Evaluering part 2\n",
    "For å videre evaluere angrepene vil vi introdusere \"noder i største partisjon\" som mål. \n",
    "Beregn størrelsen av største partisjon og sammenlign tilfeldig angrep med målrettet ved tre noder fjernet. \n"
   ]
  },
  {
   "cell_type": "code",
   "execution_count": null,
   "metadata": {},
   "outputs": [],
   "source": [
    "# Kode\n"
   ]
  },
  {
   "cell_type": "markdown",
   "metadata": {},
   "source": [
    "### 4.2.6 Evaluering part 3\n",
    "Diskuter fordeler og ulemper med noder i største partisjon som pålitelighetsmål. Er dette et fornuftig mål i vårt tilfelle?"
   ]
  },
  {
   "cell_type": "raw",
   "metadata": {},
   "source": [
    "Diskuter her\n"
   ]
  },
  {
   "cell_type": "markdown",
   "metadata": {},
   "source": [
    "### 4.2.7 Evaluering part 4\n",
    "Drøft kort viktigheten av informasjonen rundt en nettverkstopologi."
   ]
  },
  {
   "cell_type": "raw",
   "metadata": {},
   "source": [
    "Skriv teksten din her\n"
   ]
  },
  {
   "cell_type": "markdown",
   "metadata": {},
   "source": [
    "## 4.3 Sikring av nettverket"
   ]
  },
  {
   "cell_type": "markdown",
   "metadata": {},
   "source": [
    "### 4.3.1 Flere kanter\n",
    "Legg til tre kanter for å sikre flest mulig noder mot angrep. Diskuter så hvorfor du la til de kantene du gjorde og om det nå er mer robust mot angrep."
   ]
  },
  {
   "cell_type": "code",
   "execution_count": null,
   "metadata": {
    "scrolled": false
   },
   "outputs": [],
   "source": [
    "# Kode her\n"
   ]
  },
  {
   "cell_type": "markdown",
   "metadata": {},
   "source": [
    "### 4.3.2 Plotting av robusthet\n",
    "Antall noder i største partisjon er et eksempel på et mål for hvor mye av et nettverk som har overlevd. Plott et linjediagram (en graf) med antall noder i største komponent langs y_aksen, antall noder fjernet på x_aksen og fjern en etter en node med de 4 forskjellige angrepene. <br/>\n",
    "Lag en funksjon for denne grafen. <br/> Bruk ConstructedGraph nettverket og plott grafen."
   ]
  },
  {
   "cell_type": "code",
   "execution_count": null,
   "metadata": {
    "scrolled": false
   },
   "outputs": [],
   "source": [
    "# Kode her\n"
   ]
  },
  {
   "cell_type": "markdown",
   "metadata": {},
   "source": [
    "### 4.3.3 Sammenligning av angrepene\n",
    "Er noen av angrepene bedre enn andre? \n",
    "Hvordan gjør tilfeldige feil det?"
   ]
  },
  {
   "cell_type": "raw",
   "metadata": {},
   "source": [
    "Diskuter her\n"
   ]
  },
  {
   "cell_type": "markdown",
   "metadata": {},
   "source": [
    "### 4.3.4 Beregning av kostnad\n",
    "Kostnaden kan måles med antall kanter per node i nettverket. Beregn kanter per node for VDES med ekstra kanter og VDES uten."
   ]
  },
  {
   "cell_type": "code",
   "execution_count": null,
   "metadata": {},
   "outputs": [],
   "source": [
    "# Kode her\n"
   ]
  },
  {
   "cell_type": "markdown",
   "metadata": {
    "scrolled": false
   },
   "source": [
    "### 4.3.5 Sammenligning med ekstra redundans\n",
    "* Sammenlign det originale VDES nettverket med VDES nettverket med ekstra redundans ved å plotte en lik graf som i 4.3.2 for begge.\n",
    "* Ble nettverket sikrere? \n",
    "* Er det verdt det?\n",
    "* Er det alltid verdt det?"
   ]
  },
  {
   "cell_type": "code",
   "execution_count": null,
   "metadata": {},
   "outputs": [],
   "source": [
    "# Kode her\n"
   ]
  },
  {
   "cell_type": "raw",
   "metadata": {},
   "source": [
    "Diskuter her \n"
   ]
  },
  {
   "cell_type": "markdown",
   "metadata": {},
   "source": [
    "### 4.3.6 Kostnad\n",
    "Diskuter hvor mye burde man sikre et nettverk med hensyn på redundans?"
   ]
  },
  {
   "cell_type": "raw",
   "metadata": {},
   "source": [
    "Diskuter her\n"
   ]
  }
 ],
 "metadata": {
  "kernelspec": {
   "display_name": "Python 3",
   "language": "python",
   "name": "python3"
  },
  "language_info": {
   "codemirror_mode": {
    "name": "ipython",
    "version": 3
   },
   "file_extension": ".py",
   "mimetype": "text/x-python",
   "name": "python",
   "nbconvert_exporter": "python",
   "pygments_lexer": "ipython3",
   "version": "3.7.0"
  }
 },
 "nbformat": 4,
 "nbformat_minor": 2
}
